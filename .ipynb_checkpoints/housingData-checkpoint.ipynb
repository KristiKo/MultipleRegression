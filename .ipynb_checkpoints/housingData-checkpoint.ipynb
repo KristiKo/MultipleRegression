{
 "cells": [
  {
   "cell_type": "code",
   "execution_count": 1,
   "metadata": {},
   "outputs": [
    {
     "data": {
      "text/html": [
       "<div>\n",
       "<style scoped>\n",
       "    .dataframe tbody tr th:only-of-type {\n",
       "        vertical-align: middle;\n",
       "    }\n",
       "\n",
       "    .dataframe tbody tr th {\n",
       "        vertical-align: top;\n",
       "    }\n",
       "\n",
       "    .dataframe thead th {\n",
       "        text-align: right;\n",
       "    }\n",
       "</style>\n",
       "<table border=\"1\" class=\"dataframe\">\n",
       "  <thead>\n",
       "    <tr style=\"text-align: right;\">\n",
       "      <th></th>\n",
       "      <th>Year</th>\n",
       "      <th>Date</th>\n",
       "      <th>Region_Name</th>\n",
       "      <th>Average_Price</th>\n",
       "      <th>Monthly_Change</th>\n",
       "      <th>Annual_Change</th>\n",
       "      <th>Average_Price_SA</th>\n",
       "    </tr>\n",
       "  </thead>\n",
       "  <tbody>\n",
       "    <tr>\n",
       "      <th>0</th>\n",
       "      <td>1995</td>\n",
       "      <td>01/01/1995</td>\n",
       "      <td>Wales</td>\n",
       "      <td>43164.30827</td>\n",
       "      <td>NaN</td>\n",
       "      <td>NaN</td>\n",
       "      <td>43031.70419</td>\n",
       "    </tr>\n",
       "    <tr>\n",
       "      <th>1</th>\n",
       "      <td>1995</td>\n",
       "      <td>01/01/1995</td>\n",
       "      <td>England</td>\n",
       "      <td>53202.77128</td>\n",
       "      <td>NaN</td>\n",
       "      <td>NaN</td>\n",
       "      <td>53535.97105</td>\n",
       "    </tr>\n",
       "    <tr>\n",
       "      <th>2</th>\n",
       "      <td>1995</td>\n",
       "      <td>01/01/1995</td>\n",
       "      <td>Outer London</td>\n",
       "      <td>72958.79836</td>\n",
       "      <td>NaN</td>\n",
       "      <td>NaN</td>\n",
       "      <td>NaN</td>\n",
       "    </tr>\n",
       "    <tr>\n",
       "      <th>3</th>\n",
       "      <td>1995</td>\n",
       "      <td>01/01/1995</td>\n",
       "      <td>Inner London</td>\n",
       "      <td>78251.97650</td>\n",
       "      <td>NaN</td>\n",
       "      <td>NaN</td>\n",
       "      <td>NaN</td>\n",
       "    </tr>\n",
       "    <tr>\n",
       "      <th>4</th>\n",
       "      <td>1995</td>\n",
       "      <td>01/01/1995</td>\n",
       "      <td>South West</td>\n",
       "      <td>54705.15790</td>\n",
       "      <td>NaN</td>\n",
       "      <td>NaN</td>\n",
       "      <td>54706.49857</td>\n",
       "    </tr>\n",
       "  </tbody>\n",
       "</table>\n",
       "</div>"
      ],
      "text/plain": [
       "   Year        Date   Region_Name  Average_Price  Monthly_Change  \\\n",
       "0  1995  01/01/1995         Wales    43164.30827             NaN   \n",
       "1  1995  01/01/1995       England    53202.77128             NaN   \n",
       "2  1995  01/01/1995  Outer London    72958.79836             NaN   \n",
       "3  1995  01/01/1995  Inner London    78251.97650             NaN   \n",
       "4  1995  01/01/1995    South West    54705.15790             NaN   \n",
       "\n",
       "   Annual_Change  Average_Price_SA  \n",
       "0            NaN       43031.70419  \n",
       "1            NaN       53535.97105  \n",
       "2            NaN               NaN  \n",
       "3            NaN               NaN  \n",
       "4            NaN       54706.49857  "
      ]
     },
     "execution_count": 1,
     "metadata": {},
     "output_type": "execute_result"
    }
   ],
   "source": [
    "import pandas as pd\n",
    "\n",
    "df = pd.read_csv('price-data.csv')\n",
    "df.head()"
   ]
  },
  {
   "cell_type": "code",
   "execution_count": 3,
   "metadata": {},
   "outputs": [
    {
     "name": "stdout",
     "output_type": "stream",
     "text": [
      "        Year  Average_Price\n",
      "0       1995    43164.30827\n",
      "1       1995    53202.77128\n",
      "2       1995    72958.79836\n",
      "3       1995    78251.97650\n",
      "4       1995    54705.15790\n",
      "5       1995    48527.52339\n",
      "6       1995    64018.87894\n",
      "7       1995    56701.59610\n",
      "8       1995    74435.76052\n",
      "9       1995    44803.42878\n",
      "10      1995    45544.52227\n",
      "11      1995    43958.48001\n",
      "12      1995    42076.35411\n",
      "13      1995    45090.91026\n",
      "14      1995    41448.87399\n",
      "15      1995    39196.73780\n",
      "16      1995    44582.79981\n",
      "17      1995    41238.18885\n",
      "18      1995    41723.39964\n",
      "19      1995    59316.39351\n",
      "20      1995    53550.39110\n",
      "21      1995    46309.81880\n",
      "22      1995    55049.74879\n",
      "23      1995    87523.54351\n",
      "24      1995    60219.99211\n",
      "25      1995    58638.95144\n",
      "26      1995    57679.98154\n",
      "27      1995    59523.52686\n",
      "28      1995    43620.21765\n",
      "29      1995    47044.73901\n",
      "...      ...            ...\n",
      "111603  2017   225705.63880\n",
      "111604  2017   265117.71250\n",
      "111605  2017   259414.78110\n",
      "111606  2017   232380.90030\n",
      "111607  2017   346228.29910\n",
      "111608  2017   343758.49680\n",
      "111609  2017   302525.25770\n",
      "111610  2017   301986.90330\n",
      "111611  2017   495643.18540\n",
      "111612  2017   426878.42760\n",
      "111613  2017   252434.77110\n",
      "111614  2017   353044.01170\n",
      "111615  2017   196061.76880\n",
      "111616  2017   198730.77030\n",
      "111617  2017   201753.74950\n",
      "111618  2017    97910.76713\n",
      "111619  2017   207025.19420\n",
      "111620  2017   173382.14550\n",
      "111621  2017   104487.38460\n",
      "111622  2017   105852.44750\n",
      "111623  2017   106432.50240\n",
      "111624  2017   163755.41010\n",
      "111625  2017   115072.03420\n",
      "111626  2017   134762.47740\n",
      "111627  2017   237973.61870\n",
      "111628  2017   146252.15440\n",
      "111629  2017   151037.26620\n",
      "111630  2017   229519.78480\n",
      "111631  2017   220984.48810\n",
      "111632  2017   218254.55930\n",
      "\n",
      "[111633 rows x 2 columns]\n"
     ]
    },
    {
     "data": {
      "text/plain": [
       "<matplotlib.axes._subplots.AxesSubplot at 0x123647ba8>"
      ]
     },
     "execution_count": 3,
     "metadata": {},
     "output_type": "execute_result"
    },
    {
     "data": {
      "image/png": "[encoded data removed]",
      "text/plain": [
       "<Figure size 432x288 with 1 Axes>"
      ]
     },
     "metadata": {
      "needs_background": "light"
     },
     "output_type": "display_data"
    }
   ],
   "source": [
    "%matplotlib inline\n",
    "import numpy as np\n",
    "df1=df[['Year', 'Average_Price']]\n",
    "bins =  np.arange(1995,2017,1)\n",
    "groups = df1.groupby(pd.cut(df1['Average_Price'],bins)).mean()\n",
    "print(df1)\n",
    "df1.plot.line()\n"
   ]
  },
  {
   "cell_type": "code",
   "execution_count": null,
   "metadata": {},
   "outputs": [],
   "source": []
  },
  {
   "cell_type": "code",
   "execution_count": null,
   "metadata": {},
   "outputs": [],
   "source": []
  }
 ],
 "metadata": {
  "kernelspec": {
   "display_name": "Python 3",
   "language": "python",
   "name": "python3"
  },
  "language_info": {
   "codemirror_mode": {
    "name": "ipython",
    "version": 3
   },
   "file_extension": ".py",
   "mimetype": "text/x-python",
   "name": "python",
   "nbconvert_exporter": "python",
   "pygments_lexer": "ipython3",
   "version": "3.7.3"
  }
 },
 "nbformat": 4,
 "nbformat_minor": 2
}
